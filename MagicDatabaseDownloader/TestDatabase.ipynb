{
 "cells": [
  {
   "cell_type": "code",
   "execution_count": 1,
   "id": "eefd90af",
   "metadata": {
    "ExecuteTime": {
     "end_time": "2021-10-01T10:22:55.953245Z",
     "start_time": "2021-10-01T10:22:55.759024Z"
    }
   },
   "outputs": [],
   "source": [
    "from MTGSqliteDatabase import MTGSqliteDatabase\n",
    "from Index import Index\n",
    "import pickle\n",
    "import logging\n",
    "from pprint import pprint\n",
    "import sqlite3\n",
    "from sqlite3 import Error\n",
    "\n",
    "logging.basicConfig(level=logging.INFO)"
   ]
  },
  {
   "cell_type": "code",
   "execution_count": 2,
   "id": "3d3a3b70",
   "metadata": {
    "ExecuteTime": {
     "end_time": "2021-10-01T10:22:57.132444Z",
     "start_time": "2021-10-01T10:22:55.955218Z"
    },
    "scrolled": true
   },
   "outputs": [
    {
     "name": "stderr",
     "output_type": "stream",
     "text": [
      "INFO:root:Database found in ./Sqlite/AllPrintings.sqlite. I'll use the available version.\n"
     ]
    },
    {
     "name": "stdout",
     "output_type": "stream",
     "text": [
      "Connection to SQLite DB successful\n"
     ]
    },
    {
     "name": "stderr",
     "output_type": "stream",
     "text": [
      "INFO:root:Server sha256: 19d3b6389b899d6f79455cb11c3161c0467a682570a581b3fce222d6f14f3ce4\n",
      "INFO:root:Local sha256:  19d3b6389b899d6f79455cb11c3161c0467a682570a581b3fce222d6f14f3ce4\n",
      "INFO:root:Available version is Uptodate\n"
     ]
    }
   ],
   "source": [
    "db:MTGSqliteDatabase = MTGSqliteDatabase()\n",
    "db.Update()"
   ]
  },
  {
   "cell_type": "markdown",
   "id": "cc017028",
   "metadata": {},
   "source": [
    "## Function related to database"
   ]
  },
  {
   "cell_type": "code",
   "execution_count": 3,
   "id": "4c515ed8",
   "metadata": {
    "ExecuteTime": {
     "end_time": "2021-10-01T10:23:00.457761Z",
     "start_time": "2021-10-01T10:22:57.136544Z"
    }
   },
   "outputs": [
    {
     "name": "stdout",
     "output_type": "stream",
     "text": [
      "Connection to SQLite DB successful\n",
      "Done\n"
     ]
    }
   ],
   "source": [
    "def execute_read_query(connection, query):\n",
    "    cursor = connection.cursor()\n",
    "    result = None\n",
    "    try:\n",
    "        cursor.execute(query)\n",
    "        result = cursor.fetchall()\n",
    "        return result\n",
    "    except Error as e:\n",
    "        print(f\"The error '{e}' occurred\")\n",
    "        \n",
    "def create_connection(path):\n",
    "    connection = None\n",
    "    try:\n",
    "        connection = sqlite3.connect(path)\n",
    "        print(\"Connection to SQLite DB successful\")\n",
    "    except Error as e:\n",
    "        print(f\"The error '{e}' occurred\")\n",
    "\n",
    "    return connection\n",
    "\n",
    "\n",
    "connection = create_connection(\"./Sqlite/AllPrintings.sqlite\")"
   ]
  },
  {
   "cell_type": "markdown",
   "id": "0fe56ec2",
   "metadata": {},
   "source": [
    "## Pickle the English data"
   ]
  },
  {
   "cell_type": "code",
   "execution_count": null,
   "id": "b466d4cd",
   "metadata": {},
   "outputs": [],
   "source": [
    "cursor = connection.cursor()\n",
    "result = None\n",
    "try:    \n",
    "    cursor.execute(\"SELECT id, flavorText, originalText, text, name, flavorName, types, artist \\\n",
    "                        FROM cards WHERE availability LIKE '%paper%' \")\n",
    "except Error as e:\n",
    "        print(f\"The error '{e}' occurred\")\n",
    "\n",
    "index = Index()\n",
    "\n",
    "for row in cursor:\n",
    "    all_text = \"\"\n",
    "    for element in row[1:]:\n",
    "        if element != None:\n",
    "            all_text += \" \"+str(element)\n",
    "    \n",
    "    keywords = index.standardize_keywords(all_text, ADDING_CARD=True)\n",
    "\n",
    "    index.add(row[0], keywords)\n",
    "\n",
    "with open(\"pickle/mtg_db_en_sqlite.pkl\", \"wb\") as f:\n",
    "    pickle.dump(index, f)\n",
    "    \n",
    "print(\"Done\")"
   ]
  },
  {
   "cell_type": "code",
   "execution_count": 4,
   "id": "3747e086",
   "metadata": {
    "ExecuteTime": {
     "end_time": "2021-10-01T10:23:00.471421Z",
     "start_time": "2021-10-01T10:23:00.459761Z"
    },
    "scrolled": true
   },
   "outputs": [
    {
     "name": "stdout",
     "output_type": "stream",
     "text": [
      "The error 'unrecognized token: \"94db\"' occurred\n",
      "None\n"
     ]
    }
   ],
   "source": [
    "query = ['butt', 'kick']\n",
    "ranking = index.ranked_search(query)\n",
    "ranking = sorted(ranking, key=ranking.get, reverse=True)\n",
    "#print(\"Number of results:\", len(ranking), ranking)\n",
    "print( execute_read_query(connection, \"SELECT id, artist, availability, flavorText, name \\\n",
    "                                            FROM cards WHERE id=\"+str(ranking[0]) ) )"
   ]
  },
  {
   "cell_type": "markdown",
   "id": "16879df5",
   "metadata": {},
   "source": [
    "## Pickle the Italian data"
   ]
  },
  {
   "cell_type": "code",
   "execution_count": 7,
   "id": "661504d9",
   "metadata": {
    "ExecuteTime": {
     "end_time": "2021-10-01T11:25:48.469407Z",
     "start_time": "2021-10-01T11:25:44.316217Z"
    }
   },
   "outputs": [
    {
     "name": "stdout",
     "output_type": "stream",
     "text": [
      "Done\n"
     ]
    }
   ],
   "source": [
    "cursor = connection.cursor()\n",
    "result = None\n",
    "\n",
    "query = \"SELECT cards.id, cards.artist, foreign_data.flavorText, foreign_data.name, foreign_data.text, foreign_data.type \\\n",
    "            FROM cards LEFT JOIN foreign_data ON cards.uuid = foreign_data.uuid \\\n",
    "                WHERE cards.availability LIKE '%paper%' AND foreign_data.language = \\\"Italian\\\"\"\n",
    "try:\n",
    "    cursor.execute(query)\n",
    "except Error as e:\n",
    "        print(f\"The error '{e}' occurred\")\n",
    "\n",
    "index = Index()\n",
    "\n",
    "for row in cursor:\n",
    "    all_text = \"\"\n",
    "    for element in row[1:]:\n",
    "        if element != None:\n",
    "            all_text += \" \"+str(element)\n",
    "    \n",
    "    keywords = index.standardize_keywords(all_text, ADDING_CARD=True)\n",
    "\n",
    "    index.add(row[0], keywords)\n",
    "\n",
    "with open(\"pickle/mtg_db_it_sqlite.pkl\", \"wb\") as f:\n",
    "    pickle.dump(index, f)\n",
    "    \n",
    "print(\"Done\")"
   ]
  },
  {
   "cell_type": "code",
   "execution_count": 8,
   "id": "631d8641",
   "metadata": {
    "ExecuteTime": {
     "end_time": "2021-10-01T11:26:10.269585Z",
     "start_time": "2021-10-01T11:26:10.261053Z"
    }
   },
   "outputs": [
    {
     "name": "stdout",
     "output_type": "stream",
     "text": [
      "[(41211, 'Ron Spencer', 'mtgo,paper', None, 'Last Stand')]\n"
     ]
    }
   ],
   "source": [
    "query = ['foresta', 'palude']\n",
    "ranking = index.ranked_search(query)\n",
    "ranking = sorted(ranking, key=ranking.get, reverse=True)\n",
    "print( execute_read_query(connection, \"SELECT id, artist, availability, flavorText, name \\\n",
    "                                            FROM cards WHERE id=\"+str(ranking[0]) ) )"
   ]
  }
 ],
 "metadata": {
  "kernelspec": {
   "display_name": "Python 3",
   "language": "python",
   "name": "python3"
  },
  "language_info": {
   "codemirror_mode": {
    "name": "ipython",
    "version": 3
   },
   "file_extension": ".py",
   "mimetype": "text/x-python",
   "name": "python",
   "nbconvert_exporter": "python",
   "pygments_lexer": "ipython3",
   "version": "3.8.10"
  },
  "latex_envs": {
   "LaTeX_envs_menu_present": true,
   "autoclose": false,
   "autocomplete": true,
   "bibliofile": "biblio.bib",
   "cite_by": "apalike",
   "current_citInitial": 1,
   "eqLabelWithNumbers": true,
   "eqNumInitial": 1,
   "hotkeys": {
    "equation": "Ctrl-E",
    "itemize": "Ctrl-I"
   },
   "labels_anchors": false,
   "latex_user_defs": false,
   "report_style_numbering": false,
   "user_envs_cfg": false
  },
  "varInspector": {
   "cols": {
    "lenName": 16,
    "lenType": 16,
    "lenVar": 40
   },
   "kernels_config": {
    "python": {
     "delete_cmd_postfix": "",
     "delete_cmd_prefix": "del ",
     "library": "var_list.py",
     "varRefreshCmd": "print(var_dic_list())"
    },
    "r": {
     "delete_cmd_postfix": ") ",
     "delete_cmd_prefix": "rm(",
     "library": "var_list.r",
     "varRefreshCmd": "cat(var_dic_list()) "
    }
   },
   "types_to_exclude": [
    "module",
    "function",
    "builtin_function_or_method",
    "instance",
    "_Feature"
   ],
   "window_display": false
  }
 },
 "nbformat": 4,
 "nbformat_minor": 5
}
