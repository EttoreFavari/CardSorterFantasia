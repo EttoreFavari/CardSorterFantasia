{
 "cells": [
  {
   "cell_type": "code",
   "execution_count": 15,
   "id": "6b2cad73",
   "metadata": {
    "ExecuteTime": {
     "end_time": "2021-07-04T20:10:39.865639Z",
     "start_time": "2021-07-04T20:10:39.818441Z"
    }
   },
   "outputs": [],
   "source": [
    "import cv2\n",
    "import numpy as np\n",
    "\n",
    "\n",
    "# Preprocessing of the image\n",
    "# Don't ask, it just works\n",
    "image = cv2.imread('test3.jpg')\n",
    "\n",
    "gray = cv2.cvtColor(image, cv2.COLOR_BGR2GRAY)\n",
    "blurred = cv2.GaussianBlur(gray, (3, 3), 0)\n",
    "canny = cv2.Canny(blurred, 120, 255, 1)\n",
    "\n",
    "\n",
    "# Find contours\n",
    "contours, hierarchy = cv2.findContours(canny, cv2.RETR_EXTERNAL, cv2.CHAIN_APPROX_SIMPLE)\n",
    "\n",
    "# Iterate thorugh contours and draw rectangles around all the contours found\n",
    "#for c in contours:\n",
    "#    x,y,w,h = cv2.boundingRect(c)\n",
    "#    cv2.rectangle(image, (x, y), (x + w, y + h), (36,255,12), 2)\n",
    "\n",
    "maxArea = -1\n",
    "for c in contours:\n",
    "    if cv2.contourArea(c) > maxArea:\n",
    "        cMax = c\n",
    "        maxArea = cv2.contourArea(c)\n",
    "\n",
    "\n",
    "# Find the (rotated) rectangle with the minimum area\n",
    "rect = cv2.minAreaRect(c)\n",
    "area = cv2.contourArea(c) # area is needed later to find the rotate image once again\n",
    "#print(area)\n",
    "box = np.int0( cv2.boxPoints(rect) ) # Get vertices coordinates and transform them in integers\n",
    "\n",
    "\n",
    "# Draw the box and show what we have so far\n",
    "#cv2.drawContours(image,[box],0,(0,0,255),2)\n",
    "#print(box)\n",
    "#cv2.imshow('canny', canny)\n",
    "#cv2.imshow('image', image)\n",
    "#cv2.imwrite('canny.png', canny)\n",
    "#cv2.waitKey(0)\n",
    "\n",
    "\n",
    "# Rotate the image\n",
    "# Box vertices are given counter-clockwise\n",
    "dy = box[0][1] - box[1][1]\n",
    "dx = box[0][0] - box[1][0]\n",
    "angle = np.arctan(dy/dx)*180/np.pi\n",
    "\n",
    "# Center of the rectangle in order to perform the rotation\n",
    "cX = np.abs( (box[0][0] + box[2][0])//2 )\n",
    "cY = np.abs( (box[0][1] + box[2][1])//2 )\n",
    "\n",
    "rot_mat = cv2.getRotationMatrix2D( (cX, cY), angle, 1.0)\n",
    "result = cv2.warpAffine(image, rot_mat, image.shape[1::-1], flags=cv2.INTER_LINEAR)\n",
    "\n",
    "# Show intermediate results\n",
    "#cv2.circle(img, (cX, cY), radius=20, color=(255, 170, 29), thickness=-1)\n",
    "#cv2.imshow('image', image)\n",
    "#cv2.imshow('result', result)\n",
    "#cv2.waitKey(0)"
   ]
  },
  {
   "cell_type": "code",
   "execution_count": 16,
   "id": "0fc2c282",
   "metadata": {
    "ExecuteTime": {
     "end_time": "2021-07-04T20:10:49.388274Z",
     "start_time": "2021-07-04T20:10:41.280416Z"
    }
   },
   "outputs": [
    {
     "data": {
      "text/plain": [
       "-1"
      ]
     },
     "execution_count": 16,
     "metadata": {},
     "output_type": "execute_result"
    }
   ],
   "source": [
    "# -----------------------------------------------\n",
    "# REPEAT THE PROCESS AND CROP THE CARD\n",
    "# -----------------------------------------------\n",
    "\n",
    "\n",
    "gray = cv2.cvtColor(result, cv2.COLOR_BGR2GRAY)\n",
    "blurred = cv2.GaussianBlur(gray, (3, 3), 0)\n",
    "canny = cv2.Canny(blurred, 120, 255, 1)\n",
    "\n",
    "\n",
    "# Find contours\n",
    "contours, hierarchy = cv2.findContours(canny, cv2.RETR_EXTERNAL, cv2.CHAIN_APPROX_SIMPLE)\n",
    "\n",
    "for c in contours:\n",
    "    cArea = cv2.contourArea(c)\n",
    "    if cArea < 1.1*area and cArea > 0.9*area:\n",
    "        break\n",
    "\n",
    "# Find the (rotated) rectangle with the minimum area\n",
    "rect = cv2.minAreaRect(c)\n",
    "box = np.int0( cv2.boxPoints(rect) ) # Get vertices coordinates and transform them in integers\n",
    "\n",
    "\n",
    "# Draw the box and show what we have so far\n",
    "minX = min(box[:, 1])\n",
    "maxX = max(box[:, 1])\n",
    "minY = min(box[:, 0])\n",
    "maxY = max(box[:, 0])\n",
    "\n",
    "cropped = result[minX:maxX, minY:maxY]\n",
    "croppedGray = gray[minX:maxX, minY:maxY]\n",
    "\n",
    "cv2.drawContours(result,[box],0,(0,0,255),2)\n",
    "#print(box)\n",
    "\n",
    "cv2.imshow('Original Image', image)\n",
    "cv2.imshow('Rotated Image', result)\n",
    "cv2.imshow('Final Result', cropped)\n",
    "cv2.imshow('Final Result (Gray)', croppedGray)\n",
    "cv2.imwrite(\"output/cropped.png\",cropped)\n",
    "cv2.imwrite(\"output/croppedGray.png\",croppedGray)\n",
    "cv2.waitKey(0)"
   ]
  },
  {
   "cell_type": "markdown",
   "id": "2d670cdb",
   "metadata": {},
   "source": [
    "Resources:\n",
    "- https://docs.opencv.org/3.1.0/dd/d49/tutorial_py_contour_features.html  \n",
    "- https://docs.opencv.org/4.5.2/d4/d73/tutorial_py_contours_begin.html  \n",
    "- https://docs.opencv.org/3.4/dd/d49/tutorial_py_contour_features.html"
   ]
  }
 ],
 "metadata": {
  "kernelspec": {
   "display_name": "Python 3",
   "language": "python",
   "name": "python3"
  },
  "language_info": {
   "codemirror_mode": {
    "name": "ipython",
    "version": 3
   },
   "file_extension": ".py",
   "mimetype": "text/x-python",
   "name": "python",
   "nbconvert_exporter": "python",
   "pygments_lexer": "ipython3",
   "version": "3.8.10"
  },
  "latex_envs": {
   "LaTeX_envs_menu_present": true,
   "autoclose": false,
   "autocomplete": true,
   "bibliofile": "biblio.bib",
   "cite_by": "apalike",
   "current_citInitial": 1,
   "eqLabelWithNumbers": true,
   "eqNumInitial": 1,
   "hotkeys": {
    "equation": "Ctrl-E",
    "itemize": "Ctrl-I"
   },
   "labels_anchors": false,
   "latex_user_defs": false,
   "report_style_numbering": false,
   "user_envs_cfg": false
  },
  "varInspector": {
   "cols": {
    "lenName": 16,
    "lenType": 16,
    "lenVar": 40
   },
   "kernels_config": {
    "python": {
     "delete_cmd_postfix": "",
     "delete_cmd_prefix": "del ",
     "library": "var_list.py",
     "varRefreshCmd": "print(var_dic_list())"
    },
    "r": {
     "delete_cmd_postfix": ") ",
     "delete_cmd_prefix": "rm(",
     "library": "var_list.r",
     "varRefreshCmd": "cat(var_dic_list()) "
    }
   },
   "types_to_exclude": [
    "module",
    "function",
    "builtin_function_or_method",
    "instance",
    "_Feature"
   ],
   "window_display": false
  }
 },
 "nbformat": 4,
 "nbformat_minor": 5
}
