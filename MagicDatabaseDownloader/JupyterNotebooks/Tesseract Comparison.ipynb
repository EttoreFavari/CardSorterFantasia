{
 "cells": [
  {
   "cell_type": "markdown",
   "id": "understanding-volunteer",
   "metadata": {},
   "source": [
    "## Tesseract Features Test\n",
    "This notebook aims at understanding whether Tesseract is an OCR Engine (optical character recognition) useful for our purposes."
   ]
  },
  {
   "cell_type": "code",
   "execution_count": 1,
   "id": "chubby-transport",
   "metadata": {
    "ExecuteTime": {
     "end_time": "2021-03-29T13:37:13.141214Z",
     "start_time": "2021-03-29T13:36:54.786001Z"
    },
    "scrolled": true
   },
   "outputs": [
    {
     "name": "stdout",
     "output_type": "stream",
     "text": [
      "Current working Directory: D:\\GitRepositories\\CardSorterFantasia\\MagicDatabaseDownloader\n"
     ]
    }
   ],
   "source": [
    "# library import and constant definition\n",
    "import matplotlib.pyplot as plt\n",
    "import matplotlib.image as mpimg\n",
    "import json\n",
    "import re\n",
    "import requests\n",
    "\n",
    "import numpy as np\n",
    "from skimage import data\n",
    "from skimage.color import rgb2gray\n",
    "\n",
    "import pytesseract\n",
    "import os, os.path\n",
    "\n",
    "import random\n",
    "from pathlib import Path\n",
    "\n",
    "\n",
    "cwd = os.getcwd()\n",
    "print(\"Current working Directory:\", cwd)\n",
    "\n",
    "with open('./AllPrintings.json', encoding=\"utf8\") as json_file:\n",
    "  magic_sets = json.load(json_file)\n",
    "  magic_sets = magic_sets['data']"
   ]
  },
  {
   "cell_type": "code",
   "execution_count": 16,
   "id": "dedicated-target",
   "metadata": {},
   "outputs": [
    {
     "data": {
      "text/plain": [
       "{'artist': 'Steven Belledin',\n",
       " 'availability': ['mtgo', 'paper'],\n",
       " 'borderColor': 'black',\n",
       " 'colorIdentity': ['W'],\n",
       " 'colors': ['W'],\n",
       " 'convertedManaCost': 2.0,\n",
       " 'edhrecRank': 13723,\n",
       " 'flavorText': '\"We prepare for the known with daggers, rations, rope, and pitons. But we also prepare for the unknown with billycat tails, pikku roots, hedron chips . . .\"',\n",
       " 'foreignData': [{'flavorText': '„Wir rüsten uns für bekannte Gefahren mit Dolchen, Vorräten, Seil und Felshaken. Aber wir sind mit Katzenbockschwänzen, Pikkublättern und Splittern von Polyedern auch auf das Ungewisse vorbereitet.\"',\n",
       "   'language': 'German',\n",
       "   'multiverseId': 204081,\n",
       "   'name': 'Rüstmeister',\n",
       "   'text': 'Andere Kor-Kreaturen, die du kontrollierst, erhalten für jede an den Rüstmeister angelegte Ausrüstung +2/+2.',\n",
       "   'type': 'Kreatur — Kor, Soldat'},\n",
       "  {'flavorText': '\"Nos preparamos para lo conocido con dagas, raciones, cuerdas y pitones. Pero también nos preparamos para lo desconocido con colas de gato macho, raíces de pikku, astillas de edro...\"',\n",
       "   'language': 'Spanish',\n",
       "   'multiverseId': 202736,\n",
       "   'name': 'Maestro armero',\n",
       "   'text': 'Las otras criaturas Kor que controlas obtienen +2/+2 por cada Equipo anexado al Maestro armero.',\n",
       "   'type': 'Criatura — Soldado kor'},\n",
       "  {'flavorText': \"« Nous nous préparons aux dangers connus avec des dagues, des rations, de la corde et des pitons. Mais nous n'oublions pas l'inattendu : queues de chaboucs, racines de pikou, fragments d'hèdrons. . . »\",\n",
       "   'language': 'French',\n",
       "   'multiverseId': 204350,\n",
       "   'name': \"Maître d'armement\",\n",
       "   'text': \"Les autres créatures Kor que vous contrôlez gagnent +2/+2 pour chaque équipement attaché au Maître d'armement.\",\n",
       "   'type': 'Créature : kor et soldat'},\n",
       "  {'flavorText': '\"Ci prepariamo per ciò che conosciamo con pugnali, razioni, corda e chiodi. Ma ci attrezziamo anche per l\\'ignoto con code di billygatto, radici di pikku, schegge di edro . . .\"',\n",
       "   'language': 'Italian',\n",
       "   'multiverseId': 203005,\n",
       "   'name': 'Supervisore agli Armamenti',\n",
       "   'text': 'Le altre creature Kor che controlli prendono +2/+2 per ogni Equipaggiamento assegnato al Supervisore agli Armamenti.',\n",
       "   'type': 'Creatura — Soldato Kor'},\n",
       "  {'flavorText': '「既知の物に対しては、短刀、食料、ロープ、楔を準備してあります。 一方で、未知の物に対しては、雄猫の尾、ピクーの根、面晶体の欠片……」',\n",
       "   'language': 'Japanese',\n",
       "   'multiverseId': 203812,\n",
       "   'name': '武装の達人',\n",
       "   'text': 'あなたがコントロールする他のコー・クリーチャーは、武装の達人につけられている装備品１つにつき＋２/＋２の修整を受ける。',\n",
       "   'type': 'クリーチャー — コー・兵士'},\n",
       "  {'flavorText': '\"Nós nos preparamos para o conhecido com adagas, rações, cordas e pitons. Mas também nos preparamos para o desconhecido com rabos de felídeo, raízes de pikku, lascas de edro...\"',\n",
       "   'language': 'Portuguese (Brazil)',\n",
       "   'multiverseId': 203543,\n",
       "   'name': 'Mestre do Armamento',\n",
       "   'text': 'As outras criaturas do tipo Kor que você controla recebem +2/+2 para cada Equipamento anexado a Mestre do Armamento.',\n",
       "   'type': 'Criatura — Kor Soldado'},\n",
       "  {'flavorText': '«Мы готовимся к известному, запасаясь кинжалами, едой, веревками и крюками. Но мы также готовимся к неизвестному, припасая хвосты диких котов, корни деревьев пикку, осколки эдров...»',\n",
       "   'language': 'Russian',\n",
       "   'multiverseId': 203274,\n",
       "   'name': 'Мастер Вооружений',\n",
       "   'text': 'Другие существа-Коры под вашим контролем получают +2/+2 за каждое Снаряжение, прикрепленное к Мастеру Вооружений.',\n",
       "   'type': 'Существо — Кор Солдат'},\n",
       "  {'flavorText': '「我们为了已知的状况而准备匕首，口粮，绳索，以及岩钉。 而我们也为了未知的状况而准备山猫尾，比苦树根，晶石碎片...」',\n",
       "   'language': 'Chinese Simplified',\n",
       "   'multiverseId': 204619,\n",
       "   'name': '军备专家',\n",
       "   'text': '每有一个武具装备在军备专家上，由你操控的其他寇族生物便得+2/+2。',\n",
       "   'type': '生物～寇族／士兵'}],\n",
       " 'frameVersion': '2003',\n",
       " 'hasFoil': True,\n",
       " 'hasNonFoil': True,\n",
       " 'identifiers': {'cardKingdomFoilId': '128134',\n",
       "  'cardKingdomId': '127882',\n",
       "  'mcmId': '21819',\n",
       "  'mcmMetaId': '10803',\n",
       "  'mtgjsonV4Id': 'd1279de1-0432-55c7-9c61-76efae5ede00',\n",
       "  'mtgoFoilId': '34631',\n",
       "  'mtgoId': '34630',\n",
       "  'multiverseId': '190420',\n",
       "  'scryfallId': '975f7752-e981-4046-ae9b-90b20db6b23a',\n",
       "  'scryfallIllustrationId': 'a5227da3-c48e-41ef-8ccc-917190c42af3',\n",
       "  'scryfallOracleId': 'f1dca9ac-8886-4688-9245-763ef486701c',\n",
       "  'tcgplayerProductId': '33253'},\n",
       " 'layout': 'normal',\n",
       " 'legalities': {'commander': 'Legal',\n",
       "  'duel': 'Legal',\n",
       "  'legacy': 'Legal',\n",
       "  'modern': 'Legal',\n",
       "  'penny': 'Legal',\n",
       "  'vintage': 'Legal'},\n",
       " 'manaCost': '{W}{W}',\n",
       " 'name': 'Armament Master',\n",
       " 'number': '1',\n",
       " 'originalText': 'Other Kor creatures you control get +2/+2 for each Equipment attached to Armament Master.',\n",
       " 'originalType': 'Creature — Kor Soldier',\n",
       " 'power': '2',\n",
       " 'printings': ['ZEN'],\n",
       " 'purchaseUrls': {'cardKingdom': 'https://mtgjson.com/links/b6a83fed0b547002',\n",
       "  'cardKingdomFoil': 'https://mtgjson.com/links/e9119fa5cb0b7a97',\n",
       "  'cardmarket': 'https://mtgjson.com/links/f7d431ba3e956b8a',\n",
       "  'tcgplayer': 'https://mtgjson.com/links/f1175384534cdb6e'},\n",
       " 'rarity': 'rare',\n",
       " 'rulings': [],\n",
       " 'setCode': 'ZEN',\n",
       " 'subtypes': ['Kor', 'Soldier'],\n",
       " 'supertypes': [],\n",
       " 'text': 'Other Kor creatures you control get +2/+2 for each Equipment attached to Armament Master.',\n",
       " 'toughness': '2',\n",
       " 'type': 'Creature — Kor Soldier',\n",
       " 'types': ['Creature'],\n",
       " 'uuid': '4416fff6-179b-5a46-aec1-701bcb513da5'}"
      ]
     },
     "execution_count": 16,
     "metadata": {},
     "output_type": "execute_result"
    }
   ],
   "source": [
    "magic_sets['ZEN']['cards'][0]"
   ]
  },
  {
   "cell_type": "markdown",
   "id": "green-prayer",
   "metadata": {},
   "source": [
    "### EASY Test\n",
    "\n",
    "In this section we test Tesseract features in the easiest cases. These test are useful because they cover most of the cards available.\n",
    "\n",
    "At first we will create a new json containing only the sets that satisfy the following properties:\n",
    "- Set released after 1 January 2015\n",
    "- The set is only available in the online game [MTG Arena](!https://magic.wizards.com/it/mtgarena)\n",
    "- The set's [code](!https://mtgjson.com/data-models/set/#code) is represented by less than 3 characters\n",
    "<!-- (or it's [parent code](!https://mtgjson.com/data-models/set/#parentCode)) KISS for now -->"
   ]
  },
  {
   "cell_type": "code",
   "execution_count": 3,
   "id": "furnished-vacation",
   "metadata": {
    "scrolled": true
   },
   "outputs": [
    {
     "name": "stdout",
     "output_type": "stream",
     "text": [
      "2XM --> 2XM > ---\t size: 332\t|  A25 --> A25 > ---\t size: 249\t|  AER --> AER > ---\t size: 184\n",
      "AKH --> AKH > ---\t size: 269\t|  BBD --> BBD > ---\t size: 254\t|  BFZ --> BFZ > ---\t size: 274\n",
      "C15 --> C15 > ---\t size: 342\t|  C16 --> C16 > ---\t size: 351\t|  C17 --> C17 > ---\t size: 309\n",
      "C18 --> C18 > ---\t size: 307\t|  C19 --> C19 > ---\t size: 302\t|  C20 --> C20 > ---\t size: 322\n",
      "CC1 --> CC1 > ---\t size: 8\t|  CM2 --> CM2 > ---\t size: 312\t|  CMA --> CMA > ---\t size: 320\n",
      "CMR --> CMR > ---\t size: 361\t|  CN2 --> CN2 > ---\t size: 221\t|  CP2 --> CP2 > FRF\t size: 6\n",
      "CP3 --> CP3 > ORI\t size: 6\t|  DDO --> DDO > ---\t size: 67\t|  DDP --> DDP > ---\t size: 80\n",
      "DDQ --> DDQ > ---\t size: 80\t|  DDR --> DDR > ---\t size: 76\t|  DDS --> DDS > ---\t size: 65\n",
      "DDT --> DDT > ---\t size: 63\t|  DDU --> DDU > ---\t size: 76\t|  DOM --> DOM > ---\t size: 269\n",
      "DTK --> DTK > ---\t size: 264\t|  E01 --> E01 > ---\t size: 106\t|  E02 --> E02 > ---\t size: 48\n",
      "ELD --> ELD > ---\t size: 269\t|  EMA --> EMA > ---\t size: 249\t|  EMN --> EMN > ---\t size: 205\n",
      "EXP --> EXP > BFZ\t size: 45\t|  F15 --> F15 > ---\t size: 12\t|  F16 --> F16 > ---\t size: 12\n",
      "F17 --> F17 > ---\t size: 12\t|  F18 --> F18 > ---\t size: 3\t|  FRF --> FRF > ---\t size: 185\n",
      "G17 --> G17 > ---\t size: 5\t|  G18 --> G18 > M19\t size: 5\t|  GK1 --> GK1 > ---\t size: 127\n",
      "GK2 --> GK2 > ---\t size: 133\t|  GN2 --> GN2 > ---\t size: 64\t|  GNT --> GNT > ---\t size: 68\n",
      "GRN --> GRN > ---\t size: 259\t|  GS1 --> GS1 > ---\t size: 41\t|  H17 --> H17 > ---\t size: 4\n",
      "HOU --> HOU > ---\t size: 199\t|  HTR --> HTR > ---\t size: 3\t|  IKO --> IKO > ---\t size: 274\n",
      "IMA --> IMA > ---\t size: 249\t|  J15 --> J15 > ---\t size: 8\t|  J16 --> J16 > ---\t size: 8\n",
      "J17 --> J17 > ---\t size: 9\t|  J18 --> J18 > ---\t size: 8\t|  J19 --> J19 > ---\t size: 8\n",
      "J20 --> J20 > ---\t size: 10\t|  J21 --> J21 > ---\t size: 2\t|  JMP --> JMP > ---\t size: 495\n",
      "KHC --> KHC > KHM\t size: 119\t|  KHM --> KHM > ---\t size: 290\t|  KLD --> KLD > ---\t size: 264\n",
      "L15 --> L15 > ---\t size: 1\t|  L16 --> L16 > ---\t size: 1\t|  L17 --> L17 > ---\t size: 1\n",
      "M19 --> M19 > ---\t size: 280\t|  M20 --> M20 > ---\t size: 280\t|  M21 --> M21 > ---\t size: 277\n",
      "MB1 --> MB1 > ---\t size: 1694\t|  MED --> MED > ---\t size: 24\t|  MH1 --> MH1 > ---\t size: 254\n",
      "MM2 --> MM2 > ---\t size: 249\t|  MM3 --> MM3 > ---\t size: 249\t|  MP2 --> MP2 > AKH\t size: 54\n",
      "MPS --> MPS > KLD\t size: 54\t|  OGW --> OGW > ---\t size: 184\t|  ORI --> ORI > ---\t size: 272\n",
      "PCA --> PCA > ---\t size: 156\t|  PTG --> PTG > ---\t size: 3\t|  RIX --> RIX > ---\t size: 196\n",
      "RNA --> RNA > ---\t size: 259\t|  SLD --> SLD > ---\t size: 221\t|  SLU --> SLU > SLD\t size: 15\n",
      "SOI --> SOI > ---\t size: 297\t|  SS1 --> SS1 > ---\t size: 8\t|  SS2 --> SS2 > ---\t size: 8\n",
      "SS3 --> SS3 > ---\t size: 8\t|  STA --> STA > STX\t size: 6\t|  STX --> STX > ---\t size: 5\n",
      "THB --> THB > ---\t size: 254\t|  TSR --> TSR > ---\t size: 410\t|  UMA --> UMA > ---\t size: 254\n",
      "UND --> UND > ---\t size: 96\t|  UST --> UST > ---\t size: 268\t|  V15 --> V15 > ---\t size: 15\n",
      "V16 --> V16 > ---\t size: 16\t|  V17 --> V17 > ---\t size: 16\t|  W16 --> W16 > ---\t size: 16\n",
      "W17 --> W17 > ---\t size: 30\t|  WAR --> WAR > ---\t size: 264\t|  XLN --> XLN > ---\t size: 279\n",
      "ZNC --> ZNC > ZNR\t size: 142\t|  ZNE --> ZNE > ZNR\t size: 30\t|  ZNR --> ZNR > ---\t size: 285\n"
     ]
    }
   ],
   "source": [
    "foo=0\n",
    "for ms in magic_sets.copy():\n",
    "    if magic_sets[ms]['releaseDate'] < '2015-01-01' or magic_sets[ms]['isOnlineOnly'] or len(magic_sets[ms]['code']) > 3:\n",
    "        del magic_sets[ms]\n",
    "    else:\n",
    "        foo+=1\n",
    "        print(ms+\" --> \"+magic_sets[ms]['code']+\n",
    "            \" > \"+ (magic_sets[ms]['parentCode'] if 'parentCode' in magic_sets[ms] else \"---\")+\n",
    "            \"\\t size: \" + str(magic_sets[ms]['baseSetSize']), end=('\\n' if foo % 3 == 0 else '\\t|  ') )"
   ]
  },
  {
   "cell_type": "code",
   "execution_count": 17,
   "id": "judicial-algorithm",
   "metadata": {
    "scrolled": true
   },
   "outputs": [
    {
     "data": {
      "text/plain": [
       "dict_keys(['10E', '2ED', '2XM', '3ED', '4BB', '4ED', '5DN', '5ED', '6ED', '7ED', '8ED', '9ED', 'A25', 'AER', 'AJMP', 'AKH', 'AKR', 'ALA', 'ALL', 'AMH1', 'ANA', 'ANB', 'APC', 'ARB', 'ARC', 'ARN', 'ATH', 'ATQ', 'AVR', 'AZNR', 'BBD', 'BFZ', 'BNG', 'BOK', 'BRB', 'BTD', 'C13', 'C14', 'C15', 'C16', 'C17', 'C18', 'C19', 'C20', 'CC1', 'CED', 'CEI', 'CHK', 'CHR', 'CM1', 'CM2', 'CMA', 'CMB1', 'CMD', 'CMR', 'CN2', 'CNS', 'CON', 'CP1', 'CP2', 'CP3', 'CSP', 'CST', 'DD1', 'DD2', 'DDC', 'DDD', 'DDE', 'DDF', 'DDG', 'DDH', 'DDI', 'DDJ', 'DDK', 'DDL', 'DDM', 'DDN', 'DDO', 'DDP', 'DDQ', 'DDR', 'DDS', 'DDT', 'DDU', 'DGM', 'DIS', 'DKA', 'DKM', 'DOM', 'DPA', 'DRB', 'DRK', 'DST', 'DTK', 'DVD', 'E01', 'E02', 'ELD', 'EMA', 'EMN', 'EVE', 'EVG', 'EXO', 'EXP', 'F01', 'F02', 'F03', 'F04', 'F05', 'F06', 'F07', 'F08', 'F09', 'F10', 'F11', 'F12', 'F13', 'F14', 'F15', 'F16', 'F17', 'F18', 'FBB', 'FEM', 'FJMP', 'FMB1', 'FNM', 'FRF', 'FUT', 'G00', 'G01', 'G02', 'G03', 'G04', 'G05', 'G06', 'G07', 'G08', 'G09', 'G10', 'G11', 'G17', 'G18', 'G99', 'GK1', 'GK2', 'GN2', 'GNT', 'GPT', 'GRN', 'GS1', 'GTC', 'GVL', 'H09', 'H17', 'HA1', 'HA2', 'HA3', 'HA4', 'HHO', 'HML', 'HOP', 'HOU', 'HTR', 'HTR17', 'HTR18', 'ICE', 'IKO', 'IMA', 'INV', 'ISD', 'ITP', 'J12', 'J13', 'J14', 'J15', 'J16', 'J17', 'J18', 'J19', 'J20', 'J21', 'JGP', 'JMP', 'JOU', 'JUD', 'JVC', 'KHC', 'KHM', 'KLD', 'KLR', 'KTK', 'L12', 'L13', 'L14', 'L15', 'L16', 'L17', 'LEA', 'LEB', 'LEG', 'LGN', 'LRW', 'M10', 'M11', 'M12', 'M13', 'M14', 'M15', 'M19', 'M20', 'M21', 'MB1', 'MBS', 'MD1', 'ME1', 'ME2', 'ME3', 'ME4', 'MED', 'MGB', 'MH1', 'MIR', 'MM2', 'MM3', 'MMA', 'MMQ', 'MOR', 'MP2', 'MPR', 'MPS', 'MRD', 'MZNR', 'NEM', 'NPH', 'OANA', 'OARC', 'OC13', 'OC14', 'OC15', 'OC16', 'OC17', 'OC18', 'OC19', 'OC20', 'OCM1', 'OCMD', 'ODY', 'OE01', 'OGW', 'OHOP', 'OLGC', 'ONS', 'OPC2', 'OPCA', 'ORI', 'OVNT', 'P02', 'P03', 'P04', 'P05', 'P06', 'P07', 'P08', 'P09', 'P10', 'P10E', 'P11', 'P15A', 'P2HG', 'P5DN', 'P8ED', 'P9ED', 'PAER', 'PAKH', 'PAL00', 'PAL01', 'PAL02', 'PAL03', 'PAL04', 'PAL05', 'PAL06', 'PAL99', 'PALA', 'PALP', 'PANA', 'PAPC', 'PARB', 'PARC', 'PARL', 'PAST', 'PAVR', 'PBBD', 'PBFZ', 'PBNG', 'PBOK', 'PBOOK', 'PC2', 'PCA', 'PCEL', 'PCHK', 'PCMD', 'PCMP', 'PCNS', 'PCON', 'PCSP', 'PCY', 'PD2', 'PD3', 'PDGM', 'PDIS', 'PDKA', 'PDOM', 'PDP10', 'PDP12', 'PDP13', 'PDP14', 'PDP15', 'PDRC', 'PDST', 'PDTK', 'PDTP', 'PELD', 'PELP', 'PEMN', 'PEVE', 'PEXO', 'PF19', 'PF20', 'PFRF', 'PFUT', 'PG07', 'PG08', 'PGPT', 'PGPX', 'PGRN', 'PGRU', 'PGTC', 'PGTW', 'PHEL', 'PHJ', 'PHOP', 'PHOU', 'PHPR', 'PHUK', 'PI13', 'PI14', 'PIDW', 'PIKO', 'PINV', 'PISD', 'PJAS', 'PJJT', 'PJOU', 'PJSE', 'PJUD', 'PKHC', 'PKHM', 'PKLD', 'PKTK', 'PL21', 'PLC', 'PLGM', 'PLGN', 'PLGS', 'PLIST', 'PLNY', 'PLRW', 'PLS', 'PM10', 'PM11', 'PM12', 'PM13', 'PM14', 'PM15', 'PM19', 'PM20', 'PM21', 'PMBS', 'PMEI', 'PMH1', 'PMIC', 'PMMQ', 'PMOA', 'PMOR', 'PMPS', 'PMPS06', 'PMPS07', 'PMPS08', 'PMPS09', 'PMPS10', 'PMPS11', 'PMRD', 'PNAT', 'PNEM', 'PNPH', 'PODY', 'POGW', 'PONS', 'POR', 'PORI', 'PPC1', 'PPCY', 'PPLC', 'PPLS', 'PPOD', 'PPP1', 'PPRO', 'PPTK', 'PR2', 'PRAV', 'PRED', 'PRES', 'PRIX', 'PRM', 'PRNA', 'PROE', 'PRTR', 'PRW2', 'PRWK', 'PS11', 'PS14', 'PS15', 'PS16', 'PS17', 'PS18', 'PS19', 'PSAL', 'PSCG', 'PSDC', 'PSDG', 'PSHM', 'PSOI', 'PSOK', 'PSOM', 'PSS1', 'PSS2', 'PSS3', 'PSTH', 'PSUM', 'PSUS', 'PTC', 'PTG', 'PTHB', 'PTHS', 'PTK', 'PTKDF', 'PTMP', 'PTOR', 'PTSP', 'PUDS', 'PULG', 'PUMA', 'PUNH', 'PURL', 'PUSG', 'PUST', 'PVAN', 'PWAR', 'PWCQ', 'PWOR', 'PWOS', 'PWP09', 'PWP10', 'PWP11', 'PWP12', 'PWPN', 'PWWK', 'PXLN', 'PXTC', 'PZ1', 'PZ2', 'PZEN', 'PZNR', 'RAV', 'REN', 'RIN', 'RIX', 'RNA', 'ROE', 'RQS', 'RTR', 'S00', 'S99', 'SCG', 'SHM', 'SLD', 'SLU', 'SOI', 'SOK', 'SOM', 'SS1', 'SS2', 'SS3', 'STA', 'STH', 'STX', 'SUM', 'SZNR', 'TBTH', 'TD0', 'TD2', 'TDAG', 'TFTH', 'THB', 'THP1', 'THP2', 'THP3', 'THS', 'TMP', 'TOR', 'TPR', 'TSB', 'TSP', 'TSR', 'UDS', 'UGIN', 'UGL', 'ULG', 'UMA', 'UND', 'UNH', 'USG', 'UST', 'V09', 'V10', 'V11', 'V12', 'V13', 'V14', 'V15', 'V16', 'V17', 'VIS', 'VMA', 'W16', 'W17', 'WAR', 'WC00', 'WC01', 'WC02', 'WC03', 'WC04', 'WC97', 'WC98', 'WC99', 'WTH', 'WWK', 'XANA', 'XLN', 'ZEN', 'ZNC', 'ZNE', 'ZNR'])"
      ]
     },
     "execution_count": 17,
     "metadata": {},
     "output_type": "execute_result"
    }
   ],
   "source": [
    "magic_sets.keys()"
   ]
  },
  {
   "cell_type": "code",
   "execution_count": 5,
   "id": "verified-mouth",
   "metadata": {
    "scrolled": true
   },
   "outputs": [],
   "source": [
    "with open('./JSONs/EASY.json', 'w', encoding=\"utf8\") as json_file:\n",
    "  json.dump(magic_sets, json_file)"
   ]
  },
  {
   "cell_type": "code",
   "execution_count": 21,
   "id": "robust-keeping",
   "metadata": {
    "scrolled": true
   },
   "outputs": [],
   "source": [
    "# Auxiliary functions\n",
    "def black_over_white(img):\n",
    "    # This function transforms an image into a greyscale and then\n",
    "    # exchange the brightness. This is useful as tesseract works at\n",
    "    # it's best on black text over white background while magic\n",
    "    # cards are light text on dark background.\n",
    "    grayscale = 255*(1-rgb2gray(img) )\n",
    "    grayscale = grayscale.astype(np.uint8)\n",
    "    return grayscale\n",
    "\n",
    "\n",
    "def display_image(ax, img, grayscale, text):\n",
    "    # This function prints a brief recap\n",
    "    ax[0].imshow(img)\n",
    "    ax[0].set_title(\"Original\")\n",
    "    ax[1].imshow(grayscale, cmap=plt.cm.gray)\n",
    "    ax[1].set_title(\"Black over White\")\n",
    "    ax[2].imshow(255-0*img)\n",
    "    ax[2].text(350, 450, text, ha='center', va='center', fontsize=9)\n",
    "    \n",
    "    \n",
    "image_id_wildcard = '${card.identifiers.scryfallId}'\n",
    "image_url = 'https://api.scryfall.com/cards/${card.identifiers.scryfallId}?format=image'\n",
    "def get_card_img(card):\n",
    "    # Funzione principale incaricata di scaricare le carte\n",
    "    filename = \"cards_db/\"+card['setCode'] + \"/\"+ card['rarity'] + \"/\" + card['number'] + \".jpg\"\n",
    "    if not os.path.isfile(filename):\n",
    "        Path(\"cards_db/\"+card['setCode'] + \"/\"+ card['rarity'] + \"/\").mkdir(parents=True, exist_ok=True)\n",
    "\n",
    "        scryfallId = card['identifiers']['scryfallId']\n",
    "\n",
    "        url_img = image_url.replace(image_id_wildcard, scryfallId)\n",
    "        r = requests.get(url_img, allow_redirects=True)\n",
    "        open(filename, 'wb').write(r.content)\n",
    "    \n",
    "    return  mpimg.imread(filename).astype(np.uint8)\n",
    "\n",
    "\n",
    "def get_card_info(text):\n",
    "    card_ext = {\n",
    "        'rarity': \"\",\n",
    "        'setCode': \"\",\n",
    "        'number': \"\"\n",
    "    }\n",
    "    \n",
    "    m = re.search('[0-9A-Z]{3}\\/[0-9]{3}\\s[0-9A-Za-z]', text)\n",
    "    if m:\n",
    "        if m.group(0)[0] == '0':\n",
    "            if m.group(0)[1] == '0':\n",
    "                card_ext['number'] = m.group(0)[2]\n",
    "            else:\n",
    "                card_ext['number'] = m.group(0)[1:3]\n",
    "        else:\n",
    "            card_ext['number'] = m.group(0)[:3]\n",
    "            \n",
    "        if m.group(0)[-1:] == 'C':\n",
    "            card_ext['rarity'] = 'common'\n",
    "        elif m.group(0)[-1:] == 'U':\n",
    "            card_ext['rarity'] = 'uncommon'\n",
    "        elif m.group(0)[-1:] == 'M':\n",
    "            card_ext['rarity'] = 'mythic'\n",
    "        elif m.group(0)[-1:] == 'R':\n",
    "            card_ext['rarity'] = 'rare'\n",
    "        elif m.group(0)[-1:] == 'P': # we assume all promo cards to be classified as rareSirGGtheWanderer\n",
    "            card_ext['rarity'] = 'rare'\n",
    "        elif m.group(0)[-1:] == 'L':\n",
    "            card_ext['rarity'] = 'common' #and all lands as common\n",
    "    \n",
    "    # Search on known codes\n",
    "    for cd in magic_sets.keys():\n",
    "        m = re.search( cd+'[^a-zA-Z0-9]', text )\n",
    "        if m:\n",
    "            card_ext['setCode'] = m.group(0)[:3]\n",
    "            break\n",
    "    else:\n",
    "        print(\"SET MATCH NOT FOUND\")\n",
    "        print(text)\n",
    "\n",
    "    return card_ext\n"
   ]
  },
  {
   "cell_type": "markdown",
   "id": "aquatic-electronics",
   "metadata": {},
   "source": [
    "### Test on known images"
   ]
  },
  {
   "cell_type": "code",
   "execution_count": 23,
   "id": "reasonable-handbook",
   "metadata": {
    "scrolled": false
   },
   "outputs": [
    {
     "ename": "OSError",
     "evalue": "[Errno 22] Invalid argument: 'cards_db/PZEN/rare/*9.jpg'",
     "output_type": "error",
     "traceback": [
      "\u001b[1;31m---------------------------------------------------------------------------\u001b[0m",
      "\u001b[1;31mOSError\u001b[0m                                   Traceback (most recent call last)",
      "\u001b[1;32m<ipython-input-23-f9fac1e74e63>\u001b[0m in \u001b[0;36m<module>\u001b[1;34m\u001b[0m\n\u001b[0;32m     16\u001b[0m         \u001b[0mrnd_card\u001b[0m \u001b[1;33m=\u001b[0m \u001b[0mrandom\u001b[0m\u001b[1;33m.\u001b[0m\u001b[0mchoice\u001b[0m\u001b[1;33m(\u001b[0m\u001b[0mmagic_sets\u001b[0m\u001b[1;33m[\u001b[0m\u001b[0mrnd_ms\u001b[0m\u001b[1;33m]\u001b[0m\u001b[1;33m[\u001b[0m\u001b[1;34m'cards'\u001b[0m\u001b[1;33m]\u001b[0m\u001b[1;33m)\u001b[0m\u001b[1;33m\u001b[0m\u001b[1;33m\u001b[0m\u001b[0m\n\u001b[0;32m     17\u001b[0m \u001b[1;33m\u001b[0m\u001b[0m\n\u001b[1;32m---> 18\u001b[1;33m     \u001b[0mimg\u001b[0m \u001b[1;33m=\u001b[0m \u001b[0mget_card_img\u001b[0m\u001b[1;33m(\u001b[0m\u001b[0mrnd_card\u001b[0m\u001b[1;33m)\u001b[0m\u001b[1;33m\u001b[0m\u001b[1;33m\u001b[0m\u001b[0m\n\u001b[0m\u001b[0;32m     19\u001b[0m \u001b[1;33m\u001b[0m\u001b[0m\n\u001b[0;32m     20\u001b[0m     \u001b[1;32mcontinue\u001b[0m\u001b[1;33m\u001b[0m\u001b[1;33m\u001b[0m\u001b[0m\n",
      "\u001b[1;32m<ipython-input-21-4186e339d652>\u001b[0m in \u001b[0;36mget_card_img\u001b[1;34m(card)\u001b[0m\n\u001b[0;32m     32\u001b[0m         \u001b[0murl_img\u001b[0m \u001b[1;33m=\u001b[0m \u001b[0mimage_url\u001b[0m\u001b[1;33m.\u001b[0m\u001b[0mreplace\u001b[0m\u001b[1;33m(\u001b[0m\u001b[0mimage_id_wildcard\u001b[0m\u001b[1;33m,\u001b[0m \u001b[0mscryfallId\u001b[0m\u001b[1;33m)\u001b[0m\u001b[1;33m\u001b[0m\u001b[1;33m\u001b[0m\u001b[0m\n\u001b[0;32m     33\u001b[0m         \u001b[0mr\u001b[0m \u001b[1;33m=\u001b[0m \u001b[0mrequests\u001b[0m\u001b[1;33m.\u001b[0m\u001b[0mget\u001b[0m\u001b[1;33m(\u001b[0m\u001b[0murl_img\u001b[0m\u001b[1;33m,\u001b[0m \u001b[0mallow_redirects\u001b[0m\u001b[1;33m=\u001b[0m\u001b[1;32mTrue\u001b[0m\u001b[1;33m)\u001b[0m\u001b[1;33m\u001b[0m\u001b[1;33m\u001b[0m\u001b[0m\n\u001b[1;32m---> 34\u001b[1;33m         \u001b[0mopen\u001b[0m\u001b[1;33m(\u001b[0m\u001b[0mfilename\u001b[0m\u001b[1;33m,\u001b[0m \u001b[1;34m'wb'\u001b[0m\u001b[1;33m)\u001b[0m\u001b[1;33m.\u001b[0m\u001b[0mwrite\u001b[0m\u001b[1;33m(\u001b[0m\u001b[0mr\u001b[0m\u001b[1;33m.\u001b[0m\u001b[0mcontent\u001b[0m\u001b[1;33m)\u001b[0m\u001b[1;33m\u001b[0m\u001b[1;33m\u001b[0m\u001b[0m\n\u001b[0m\u001b[0;32m     35\u001b[0m \u001b[1;33m\u001b[0m\u001b[0m\n\u001b[0;32m     36\u001b[0m     \u001b[1;32mreturn\u001b[0m  \u001b[0mmpimg\u001b[0m\u001b[1;33m.\u001b[0m\u001b[0mimread\u001b[0m\u001b[1;33m(\u001b[0m\u001b[0mfilename\u001b[0m\u001b[1;33m)\u001b[0m\u001b[1;33m.\u001b[0m\u001b[0mastype\u001b[0m\u001b[1;33m(\u001b[0m\u001b[0mnp\u001b[0m\u001b[1;33m.\u001b[0m\u001b[0muint8\u001b[0m\u001b[1;33m)\u001b[0m\u001b[1;33m\u001b[0m\u001b[1;33m\u001b[0m\u001b[0m\n",
      "\u001b[1;31mOSError\u001b[0m: [Errno 22] Invalid argument: 'cards_db/PZEN/rare/*9.jpg'"
     ]
    }
   ],
   "source": [
    "TEST_CASES = 1\n",
    "\n",
    "#fig, ax = plt.subplots(10, 3, figsize=(14, 80), gridspec_kw={'width_ratios': [1, 1, 3]})\n",
    "\n",
    "for i in range(TEST_CASES):\n",
    "    fig, ax = plt.subplots(1, 3, figsize=(14, 8), gridspec_kw={'width_ratios': [1, 1, 1]})\n",
    "    \n",
    "    \n",
    "    # Pick a random card from one of the EASY SETs\n",
    "    rnd_ms = None\n",
    "    rnd_card = None\n",
    "    while not rnd_ms:\n",
    "        rnd_ms = random.choice( list(magic_sets.keys()) )\n",
    "    \n",
    "    while not rnd_card:\n",
    "        rnd_card = random.choice(magic_sets[rnd_ms]['cards'])z\n",
    "\n",
    "    img = get_card_img(rnd_card)\n",
    "    grayscale = black_over_white(img)\n",
    "\n",
    "    text = pytesseract.image_to_string(grayscale)\n",
    "    text = str.rstrip(text)\n",
    "    \n",
    "    display_image(ax, img, grayscale, text[:-2])\n",
    "    \n",
    "    card_ext = get_card_info(text)\n",
    "    \n",
    "    if (card_ext['rarity'] == rnd_card['rarity']) and \\\n",
    "       (card_ext['setCode'] == rnd_card['setCode']) and \\\n",
    "       (card_ext['number'] == rnd_card['number']):\n",
    "        title = \"CORRECT\"\n",
    "    else:\n",
    "        title = str(card_ext)+ rnd_card['rarity']+\" \"+rnd_card['setCode']+\" \"+rnd_card['number']\n",
    "    ax[2].set_title(title)\n",
    "\n",
    "fig.tight_layout()\n",
    "plt.show()"
   ]
  },
  {
   "cell_type": "code",
   "execution_count": 12,
   "id": "civil-society",
   "metadata": {},
   "outputs": [
    {
     "data": {
      "text/plain": [
       "'F18'"
      ]
     },
     "execution_count": 12,
     "metadata": {},
     "output_type": "execute_result"
    }
   ],
   "source": [
    "#text\n",
    "magic_sets[rnd_ms]['cards']\n",
    "rnd_ms"
   ]
  },
  {
   "cell_type": "code",
   "execution_count": 83,
   "id": "involved-mouth",
   "metadata": {},
   "outputs": [
    {
     "data": {
      "text/plain": [
       "'4.0.1'"
      ]
     },
     "execution_count": 83,
     "metadata": {},
     "output_type": "execute_result"
    }
   ],
   "source": [
    "cv.__version__"
   ]
  },
  {
   "cell_type": "markdown",
   "id": "employed-worker",
   "metadata": {},
   "source": [
    "### Other stuffs"
   ]
  },
  {
   "cell_type": "code",
   "execution_count": null,
   "id": "reverse-marking",
   "metadata": {
    "scrolled": true
   },
   "outputs": [],
   "source": [
    "m = re.search('[0-9A-Z]{3}\\/[0-9]{3}\\s[0-9A-Za-z]', text)\n",
    "print(m.group(0))\n",
    "\n",
    "# U stands for uncommon\n",
    "# RNA è l'espansione\n",
    "\n",
    "# Volendo si potrebbe trovare il set tramite il numero totale di carte (supponendo che ogni espansione abbia un numero diverso di carte)\n",
    "\n",
    "# Costrire vettore con tutte le sigle delle estensioni\n",
    "\n",
    "m = re.search( 'C15[^a-zA-Z0-9-]', text )\n",
    "print(m.group(0))\n",
    "\n",
    "\n"
   ]
  },
  {
   "cell_type": "code",
   "execution_count": 35,
   "id": "encouraging-performance",
   "metadata": {
    "scrolled": true
   },
   "outputs": [],
   "source": [
    "def add_gaussian_noise(img, mu, sigma):\n",
    "    # This functions add a random gaussian noise to the image.\n",
    "    # We used this function to test tesseracts performances under stress.\n",
    "    \n",
    "    noise = np.random.normal(mu, sigma, size=img.shape).astype(np.uint8)\n",
    "    \n",
    "    # output is clipped so that only correct values are returned.\n",
    "    # This enhance values around 0 and 255 but overhall it's a\n",
    "    # fairy effective methods for its semplicity.\n",
    "    return (img + noise).clip(0, 255)\n",
    "\n",
    "\n",
    "for ms in magic_sets:\n",
    "    if magic_sets[ms]['releaseDate'] > '2015-01-01':\n",
    "        if not magic_sets[ms]['isOnlineOnly']:\n",
    "            if len(magic_sets[ms]['code']) > 3 and 'parentCode' in magic_sets[ms]:\n",
    "                print()\n",
    "                #print(ms+\" --> \"+magic_sets[ms]['code']+\n",
    "                #          \"\\t--> \"+magic_sets[ms]['parentCode']+\n",
    "                #          \" -- \" + str(magic_sets[ms]['baseSetSize']) )\n",
    "            elif len(magic_sets[ms]['code']) > 3: \n",
    "                print(ms+\" --> \"+magic_sets[ms]['code']+\n",
    "                          \"\\t--> \"+\":(\"+\n",
    "                          \" -- \" + str(magic_sets[ms]['baseSetSize']) )\n",
    "                #print(ms+\" --> \"+magic_sets[ms]['code']+\" -- \" + str(magic_sets[ms]['baseSetSize']) )\n",
    "                \n",
    "# A := Art\n",
    "\n",
    "\n",
    "# PLIST ha problemi perchè sono ristampe di carte vecchie sparse. L'unica differenza è che c'è un simbolo in basso a sx"
   ]
  },
  {
   "cell_type": "markdown",
   "id": "modern-slovakia",
   "metadata": {},
   "source": [
    "HTR17 --> HTR17\t--> :( -- 3  \n",
    "HTR18 --> HTR18\t--> :( -- 4  \n",
    "PF19 --> PF19\t--> :( -- 7  \n",
    "PF20 --> PF20\t--> :( -- 6  \n",
    "PL21 --> PL21\t--> :( -- 2  \n",
    "PLGS --> PLGS\t--> :( -- 2  \n",
    "PLIST --> PLIST\t--> :( -- 330  \n",
    "PLNY --> PLNY\t--> :( -- 1  \n",
    "PNAT --> PNAT\t--> :( -- 1  \n",
    "PS15 --> PS15\t--> :( -- 5  \n",
    "PS16 --> PS16\t--> :( -- 5  \n",
    "PS17 --> PS17\t--> :( -- 6  \n",
    "PS18 --> PS18\t--> :( -- 5  \n",
    "PS19 --> PS19\t--> :( -- 5  "
   ]
  }
 ],
 "metadata": {
  "kernelspec": {
   "display_name": "Python 3",
   "language": "python",
   "name": "python3"
  },
  "language_info": {
   "codemirror_mode": {
    "name": "ipython",
    "version": 3
   },
   "file_extension": ".py",
   "mimetype": "text/x-python",
   "name": "python",
   "nbconvert_exporter": "python",
   "pygments_lexer": "ipython3",
   "version": "3.8.8"
  },
  "latex_envs": {
   "LaTeX_envs_menu_present": true,
   "autoclose": false,
   "autocomplete": true,
   "bibliofile": "biblio.bib",
   "cite_by": "apalike",
   "current_citInitial": 1,
   "eqLabelWithNumbers": true,
   "eqNumInitial": 1,
   "hotkeys": {
    "equation": "Ctrl-E",
    "itemize": "Ctrl-I"
   },
   "labels_anchors": false,
   "latex_user_defs": false,
   "report_style_numbering": false,
   "user_envs_cfg": false
  },
  "varInspector": {
   "cols": {
    "lenName": 16,
    "lenType": 16,
    "lenVar": 40
   },
   "kernels_config": {
    "python": {
     "delete_cmd_postfix": "",
     "delete_cmd_prefix": "del ",
     "library": "var_list.py",
     "varRefreshCmd": "print(var_dic_list())"
    },
    "r": {
     "delete_cmd_postfix": ") ",
     "delete_cmd_prefix": "rm(",
     "library": "var_list.r",
     "varRefreshCmd": "cat(var_dic_list()) "
    }
   },
   "types_to_exclude": [
    "module",
    "function",
    "builtin_function_or_method",
    "instance",
    "_Feature"
   ],
   "window_display": false
  }
 },
 "nbformat": 4,
 "nbformat_minor": 5
}
