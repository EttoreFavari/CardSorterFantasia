{
 "cells": [
  {
   "cell_type": "markdown",
   "metadata": {},
   "source": [
    "# Magic Database Downloader\n",
    "\n",
    "This simple script uses the database at [https://mtgjson.com/](!https://mtgjson.com/) and download the images from [https://scryfall.com/](!https://scryfall.com/) using the unique code provided by the database."
   ]
  },
  {
   "cell_type": "code",
   "execution_count": 9,
   "metadata": {},
   "outputs": [],
   "source": [
    "# General Variables\n",
    "url_dict = {\n",
    "    # This dictionary encodes the main acronym for some Magic expansions.\n",
    "    # The most general version uses only \"ALL\"\n",
    "    'ALL': 'https://mtgjson.com/api/v5/AllPrintings.json',\n",
    "    'ZNR': 'https://mtgjson.com/api/v5/ZNR.json',\n",
    "    '2XM': 'https://mtgjson.com/api/v5/2XM.json'\n",
    "}\n",
    "\n",
    "image_id_wildcard = '${card.identifiers.scryfallId}'\n",
    "image_url = 'https://api.scryfall.com/cards/${card.identifiers.scryfallId}?format=image'"
   ]
  },
  {
   "cell_type": "code",
   "execution_count": 6,
   "metadata": {
    "id": "SFMswVDzb6yo"
   },
   "outputs": [],
   "source": [
    "# Download database from the site\n",
    "import requests\n",
    "\n",
    "SET = 'ALL'\n",
    "\n",
    "r = requests.get(url_dict[SET], allow_redirects=True)\n",
    "open('./'+SET+'.json', 'wb').write(r.content);"
   ]
  },
  {
   "cell_type": "code",
   "execution_count": null,
   "metadata": {
    "colab": {
     "base_uri": "https://localhost:8080/"
    },
    "id": "OXiaY8mec6AX",
    "outputId": "81cf5481-0aac-4fc2-f902-47e4a0ad7068"
   },
   "outputs": [],
   "source": [
    "# Json reading\n",
    "import json\n",
    "\n",
    "with open('./'+SET+'.json') as json_file:\n",
    "  magic_sets = json.load(json_file)\n",
    "  magic_sets = magic_sets['data']\n",
    "\n",
    "for ms in magic_sets:\n",
    "  print(ms+\" --> \"+magic_sets[ms]['name'])"
   ]
  },
  {
   "cell_type": "code",
   "execution_count": null,
   "metadata": {
    "colab": {
     "base_uri": "https://localhost:8080/"
    },
    "id": "B6an2a0FOeq1",
    "outputId": "b370ab40-adec-46bd-cf12-8da97773c6c8"
   },
   "outputs": [],
   "source": [
    "# Properties of a card set: https://mtgjson.com/data-models/set/\n",
    "print( magic_sets['ZNR'].keys() )"
   ]
  },
  {
   "cell_type": "code",
   "execution_count": null,
   "metadata": {},
   "outputs": [],
   "source": [
    "print( magic_sets['ZNR']['cards'][15] )"
   ]
  },
  {
   "cell_type": "code",
   "execution_count": 8,
   "metadata": {
    "id": "Uc-FnRuFKo5F"
   },
   "outputs": [],
   "source": [
    "from pathlib import Path\n",
    "\n",
    "# Funzione principale incaricata di scaricare le carte\n",
    "def save_edition(magic_set):\n",
    "\n",
    "    # Vettori utilizzati per scaricare solo alcune carte\n",
    "    # e tenere traccia di quelle scaricate\n",
    "    color_download = {\n",
    "          'B': True,\n",
    "          'G': True,\n",
    "          'R': True,\n",
    "          'U': True,\n",
    "          'W': True,\n",
    "          'V': True,\n",
    "      }\n",
    "\n",
    "      rarity_download = {\n",
    "          'common': color_download.copy(),\n",
    "          'mythic': color_download.copy(),\n",
    "          'rare': color_download.copy(), \n",
    "          'uncommon': color_download.copy(),\n",
    "      }\n",
    "\n",
    "      for i, card in enumerate(magic_set['cards']):\n",
    "        rarity = card['rarity']\n",
    "        color = card['colors']\n",
    "\n",
    "        download = False\n",
    "\n",
    "        Path(\"./cards_db/\"+magic_set['name']+\"/\"+rarity).mkdir(parents=True, exist_ok=True)\n",
    "\n",
    "        scryfallId = card['identifiers']['scryfallId']\n",
    "\n",
    "        try:\n",
    "          if len(color) == 0:\n",
    "            if rarity_download[rarity]['V']: \n",
    "              rarity_download[rarity]['V'] = False\n",
    "          elif len(color) > 2:\n",
    "            download = True;\n",
    "          elif rarity_download[rarity][color[0]]:\n",
    "            download=True\n",
    "            rarity_download[rarity][color[0]] = False\n",
    "\n",
    "          if download:\n",
    "            url_img = image_url.replace(image_id_wildcard, scryfallId)\n",
    "            r = requests.get(url_img, allow_redirects=True)\n",
    "            open(\"./cards_db/\"+magic_set['name']+\"/\"+rarity+\"/\"+str(i)+\".jpg\", 'wb').write(r.content);\n",
    "        except:\n",
    "          print(color)\n",
    "\n",
    "        if i%100 == 0:\n",
    "          print(str(i*100/len(magic_set['cards']))+ \"%\")"
   ]
  },
  {
   "cell_type": "code",
   "execution_count": null,
   "metadata": {
    "colab": {
     "base_uri": "https://localhost:8080/"
    },
    "id": "tPkozfEvNLHv",
    "outputId": "09635b31-0c25-47fd-dd4d-dea20357d9da"
   },
   "outputs": [],
   "source": [
    "# Script totale\n",
    "import os\n",
    "\n",
    "for ms in magic_sets:\n",
    "  if magic_sets[ms]['releaseDate'] > '2015-01-01':\n",
    "    print(ms+\" --> \"+magic_sets[ms]['name'])\n",
    "    save_edition(magic_sets[ms])"
   ]
  },
  {
   "cell_type": "code",
   "execution_count": null,
   "metadata": {
    "colab": {
     "base_uri": "https://localhost:8080/"
    },
    "id": "Gzf5djT8Uu43",
    "outputId": "7e10c208-a7e5-487b-cc40-910e25241434"
   },
   "outputs": [],
   "source": [
    "# Save single magin set\n",
    "# Function for testing\n",
    "save_edition(magic_sets[\"MM2\"])"
   ]
  },
  {
   "cell_type": "code",
   "execution_count": null,
   "metadata": {
    "colab": {
     "base_uri": "https://localhost:8080/"
    },
    "id": "Tjfc8StJOGme",
    "outputId": "2b734bad-25c2-44cd-8098-8ead4c843ab6"
   },
   "outputs": [],
   "source": [
    "# Only google colab. This function zips all the downloaded files.\n",
    "!zip -r ./cards_db.zip cards_db"
   ]
  },
  {
   "cell_type": "code",
   "execution_count": null,
   "metadata": {
    "colab": {
     "base_uri": "https://localhost:8080/",
     "height": 35
    },
    "id": "fIH7wmFZPD6C",
    "outputId": "411fd419-b3ed-48b7-ed74-eb5a03b5d876"
   },
   "outputs": [],
   "source": [
    "url_img"
   ]
  },
  {
   "cell_type": "code",
   "execution_count": null,
   "metadata": {
    "colab": {
     "base_uri": "https://localhost:8080/"
    },
    "id": "bGJKcFnKXpdG",
    "outputId": "72c10a86-cb48-414e-8f0e-e189273d3230"
   },
   "outputs": [],
   "source": [
    "!stat --printf=\"%s\" cards_db.zip"
   ]
  },
  {
   "cell_type": "code",
   "execution_count": null,
   "metadata": {
    "id": "8rho1sa7uSh0"
   },
   "outputs": [],
   "source": [
    "from google.colab import files\n",
    "files.download('cards_db.zip') "
   ]
  }
 ],
 "metadata": {
  "colab": {
   "collapsed_sections": [],
   "name": "Magic database.ipynb",
   "provenance": []
  },
  "kernelspec": {
   "display_name": "Python 3",
   "language": "python",
   "name": "python3"
  },
  "language_info": {
   "codemirror_mode": {
    "name": "ipython",
    "version": 3
   },
   "file_extension": ".py",
   "mimetype": "text/x-python",
   "name": "python",
   "nbconvert_exporter": "python",
   "pygments_lexer": "ipython3",
   "version": "3.8.8"
  },
  "latex_envs": {
   "LaTeX_envs_menu_present": true,
   "autoclose": false,
   "autocomplete": true,
   "bibliofile": "biblio.bib",
   "cite_by": "apalike",
   "current_citInitial": 1,
   "eqLabelWithNumbers": true,
   "eqNumInitial": 1,
   "hotkeys": {
    "equation": "Ctrl-E",
    "itemize": "Ctrl-I"
   },
   "labels_anchors": false,
   "latex_user_defs": false,
   "report_style_numbering": false,
   "user_envs_cfg": false
  }
 },
 "nbformat": 4,
 "nbformat_minor": 1
}
